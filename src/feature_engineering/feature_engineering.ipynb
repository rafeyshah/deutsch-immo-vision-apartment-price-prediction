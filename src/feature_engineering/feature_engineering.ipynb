{
 "cells": [
  {
   "cell_type": "code",
   "execution_count": 8,
   "metadata": {},
   "outputs": [],
   "source": [
    "# Feature Engineering Notebook - Efficient Encoding\n",
    "\n",
    "import pandas as pd\n",
    "\n",
    "# Load the cleaned data from data preprocessing stage\n",
    "file_path = '../../data/cleaned_immo_data.csv'  # Ensure this is correct\n",
    "data = pd.read_csv(file_path)"
   ]
  },
  {
   "cell_type": "code",
   "execution_count": 9,
   "metadata": {},
   "outputs": [],
   "source": [
    "# Step 1: Frequency Encoding for High-Cardinality Columns (e.g., `regio` columns)\n",
    "high_cardinality_cols = ['regio1', 'regio2', 'regio3']\n",
    "for col in high_cardinality_cols:\n",
    "    freq_encoding = data[col].value_counts().to_dict()\n",
    "    data[col] = data[col].map(freq_encoding)"
   ]
  },
  {
   "cell_type": "code",
   "execution_count": 10,
   "metadata": {},
   "outputs": [
    {
     "name": "stdout",
     "output_type": "stream",
     "text": [
      "Remaining non-numeric columns to encode: Index(['heatingType', 'telekomTvOffer', 'firingTypes', 'geo_bln',\n",
      "       'houseNumber', 'geo_krs', 'condition', 'interiorQual', 'petsAllowed',\n",
      "       'street', 'streetPlain', 'typeOfFlat', 'description', 'facilities',\n",
      "       'date'],\n",
      "      dtype='object')\n"
     ]
    }
   ],
   "source": [
    "# Step 2: Identify Remaining Categorical Columns and Apply Encoding\n",
    "# Find columns that contain non-numeric data\n",
    "non_numeric_cols = data.select_dtypes(include=['object']).columns\n",
    "print(\"Remaining non-numeric columns to encode:\", non_numeric_cols)"
   ]
  },
  {
   "cell_type": "code",
   "execution_count": 11,
   "metadata": {},
   "outputs": [],
   "source": [
    "# Apply frequency encoding or label encoding to remaining non-numeric columns\n",
    "for col in non_numeric_cols:\n",
    "    freq_encoding = data[col].value_counts().to_dict()\n",
    "    data[col] = data[col].map(freq_encoding)"
   ]
  },
  {
   "cell_type": "code",
   "execution_count": 12,
   "metadata": {},
   "outputs": [],
   "source": [
    "# Step 3: Convert Boolean Features to Integers if Any\n",
    "bool_cols = data.select_dtypes(include='bool').columns\n",
    "data[bool_cols] = data[bool_cols].astype(int)"
   ]
  },
  {
   "cell_type": "code",
   "execution_count": 13,
   "metadata": {},
   "outputs": [
    {
     "name": "stdout",
     "output_type": "stream",
     "text": [
      "Data after encoding all categorical columns:\n",
      "   regio1  serviceCharge  heatingType  telekomTvOffer  newlyConst  balcony  \\\n",
      "0   58651         245.00     119057.0        205581.0           0        0   \n",
      "1    7750         134.00      17905.0        205581.0           0        1   \n",
      "2   55792         255.00      11792.0        205581.0           1        1   \n",
      "3   55792          58.15      22216.0        205581.0           0        1   \n",
      "4    2774         138.00      17905.0             NaN           0        1   \n",
      "\n",
      "   picturecount  pricetrend  telekomUploadSpeed  totalRent  ...  floor  \\\n",
      "0             6        4.62                10.0      840.0  ...    1.0   \n",
      "1             8        3.47                10.0      650.0  ...    2.0   \n",
      "2             8        2.72                 2.4     1300.0  ...    3.0   \n",
      "3             9        1.53                40.0      650.0  ...    3.0   \n",
      "4            19        2.46                40.0      903.0  ...    1.0   \n",
      "\n",
      "   numberOfFloors  noRoomsRange  garden  livingSpaceRange  regio2  regio3  \\\n",
      "0             3.0             4       1                 4    2974      54   \n",
      "1             3.0             3       0                 4     145      12   \n",
      "2             4.0             3       0                 4    6765     308   \n",
      "3             3.0             3       0                 2    3155     868   \n",
      "4             3.0             3       0                 4    1793      33   \n",
      "\n",
      "   description  facilities   date  \n",
      "0          1.0         1.0  68666  \n",
      "1          1.0         NaN  68666  \n",
      "2         10.0         1.0  59507  \n",
      "3          1.0         NaN  68666  \n",
      "4          5.0         1.0  70843  \n",
      "\n",
      "[5 rows x 42 columns]\n"
     ]
    }
   ],
   "source": [
    "# Display the transformed data to confirm changes\n",
    "print(\"Data after encoding all categorical columns:\")\n",
    "print(data.head())\n"
   ]
  },
  {
   "cell_type": "code",
   "execution_count": 16,
   "metadata": {},
   "outputs": [],
   "source": [
    "# Step 4: Handle Missing Values with Median Imputation\n",
    "# Impute NaN values with the median of each column\n",
    "data = data.fillna(data.median())"
   ]
  },
  {
   "cell_type": "code",
   "execution_count": 17,
   "metadata": {},
   "outputs": [
    {
     "name": "stdout",
     "output_type": "stream",
     "text": [
      "Feature engineering complete. Saved as 'feature_engineered_immo_data.csv'\n"
     ]
    }
   ],
   "source": [
    "# Step 4: Save the feature-engineered data\n",
    "data.to_csv('../../data/feature_engineered_immo_data.csv', index=False)\n",
    "print(\"Feature engineering complete. Saved as 'feature_engineered_immo_data.csv'\")"
   ]
  }
 ],
 "metadata": {
  "kernelspec": {
   "display_name": "venv",
   "language": "python",
   "name": "python3"
  },
  "language_info": {
   "codemirror_mode": {
    "name": "ipython",
    "version": 3
   },
   "file_extension": ".py",
   "mimetype": "text/x-python",
   "name": "python",
   "nbconvert_exporter": "python",
   "pygments_lexer": "ipython3",
   "version": "3.12.2"
  }
 },
 "nbformat": 4,
 "nbformat_minor": 2
}
